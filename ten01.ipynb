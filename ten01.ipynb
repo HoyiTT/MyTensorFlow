{
  "nbformat": 4,
  "nbformat_minor": 0,
  "metadata": {
    "colab": {
      "name": "ten01.ipynb",
      "provenance": [],
      "toc_visible": true
    },
    "kernelspec": {
      "name": "python3",
      "display_name": "Python 3"
    }
  },
  "cells": [
    {
      "cell_type": "markdown",
      "metadata": {
        "id": "Bb3sjXlzw0jh",
        "colab_type": "text"
      },
      "source": [
        "# 안녕\n",
        "\n",
        "\n",
        "\n",
        "\n"
      ]
    },
    {
      "cell_type": "code",
      "metadata": {
        "id": "nG1heHFBxcya",
        "colab_type": "code",
        "outputId": "b123627b-8410-470b-bb67-d045866e1e32",
        "colab": {
          "base_uri": "https://localhost:8080/",
          "height": 35
        }
      },
      "source": [
        "import tensorflow as tf\n",
        "\n",
        "print(tf.__version__)\n"
      ],
      "execution_count": 0,
      "outputs": [
        {
          "output_type": "stream",
          "text": [
            "2.2.0\n"
          ],
          "name": "stdout"
        }
      ]
    },
    {
      "cell_type": "markdown",
      "metadata": {
        "id": "TDoh57OHxtAF",
        "colab_type": "text"
      },
      "source": [
        "# sigmoid function"
      ]
    },
    {
      "cell_type": "code",
      "metadata": {
        "id": "80LAjzq3xdDq",
        "colab_type": "code",
        "colab": {}
      },
      "source": [
        "import math\n",
        "def sigmoid(x):\n",
        "  return 1/(1+math.exp(-x))"
      ],
      "execution_count": 0,
      "outputs": []
    },
    {
      "cell_type": "code",
      "metadata": {
        "id": "-R0VvPVpyp_7",
        "colab_type": "code",
        "outputId": "30438d78-cc95-41a7-9828-18ffcf2fde9d",
        "colab": {
          "base_uri": "https://localhost:8080/",
          "height": 35
        }
      },
      "source": [
        "x=1\n",
        "y=0\n",
        "w=tf.random.normal([1],0,1)\n",
        "output=sigmoid(x*w)\n",
        "print(output)"
      ],
      "execution_count": 0,
      "outputs": [
        {
          "output_type": "stream",
          "text": [
            "0.5382546165857082\n"
          ],
          "name": "stdout"
        }
      ]
    },
    {
      "cell_type": "code",
      "metadata": {
        "id": "itQYiZKez5N2",
        "colab_type": "code",
        "outputId": "c56d260b-8262-4e3b-bebf-7bf9a19f8930",
        "colab": {
          "base_uri": "https://localhost:8080/",
          "height": 197
        }
      },
      "source": [
        "for i in range(1000):\n",
        "  output=sigmoid(x*w)\n",
        "  error=y-output\n",
        "  w=w+x*0.1*error\n",
        "\n",
        "  if i % 100 == 99:\n",
        "    print(i,error,output)"
      ],
      "execution_count": 0,
      "outputs": [
        {
          "output_type": "stream",
          "text": [
            "99 -0.10480244560157567 0.10480244560157567\n",
            "199 -0.053080203187615416 0.053080203187615416\n",
            "299 -0.035174343219436105 0.035174343219436105\n",
            "399 -0.026218211414391786 0.026218211414391786\n",
            "499 -0.02086847481085489 0.02086847481085489\n",
            "599 -0.01731947246667963 0.01731947246667963\n",
            "699 -0.014795906755140212 0.014795906755140212\n",
            "799 -0.012910740402646961 0.012910740402646961\n",
            "899 -0.011449605146638061 0.011449605146638061\n",
            "999 -0.010284247688943884 0.010284247688943884\n"
          ],
          "name": "stdout"
        }
      ]
    },
    {
      "cell_type": "code",
      "metadata": {
        "id": "7acW1Dqe0jTH",
        "colab_type": "code",
        "outputId": "16b07b0e-7d44-4a91-9c6a-ed5123c94e83",
        "colab": {
          "base_uri": "https://localhost:8080/",
          "height": 197
        }
      },
      "source": [
        "x=0\n",
        "y=1\n",
        "w=tf.random.normal([1],0,1)\n",
        "\n",
        "for i in range(1000):\n",
        "  output=sigmoid(x*w)\n",
        "  error = y-output\n",
        "  w=w+x*0.1*error\n",
        "  \n",
        "  if i % 100 == 99:\n",
        "    print(i,error,output)\n"
      ],
      "execution_count": 0,
      "outputs": [
        {
          "output_type": "stream",
          "text": [
            "99 0.5 0.5\n",
            "199 0.5 0.5\n",
            "299 0.5 0.5\n",
            "399 0.5 0.5\n",
            "499 0.5 0.5\n",
            "599 0.5 0.5\n",
            "699 0.5 0.5\n",
            "799 0.5 0.5\n",
            "899 0.5 0.5\n",
            "999 0.5 0.5\n"
          ],
          "name": "stdout"
        }
      ]
    },
    {
      "cell_type": "code",
      "metadata": {
        "id": "J-V3ytvr2WzI",
        "colab_type": "code",
        "outputId": "c6245dcf-81c7-4638-863a-67a0938bc84c",
        "colab": {
          "base_uri": "https://localhost:8080/",
          "height": 197
        }
      },
      "source": [
        "#편향(bias)\n",
        "x=1\n",
        "y=0\n",
        "w=tf.random.normal([1],0,1)\n",
        "b=tf.random.normal([1],0,1)\n",
        "for i in range(1000):\n",
        "  output=sigmoid(x*w+1*b)\n",
        "  error=y-output\n",
        "  w=w+x*0.1*error\n",
        "  b=b+1*0.1*error\n",
        "\n",
        "  if i%100 == 99:\n",
        "    print(i,error,output)"
      ],
      "execution_count": 0,
      "outputs": [
        {
          "output_type": "stream",
          "text": [
            "99 -0.05989469818732572 0.05989469818732572\n",
            "199 -0.027799565841297037 0.027799565841297037\n",
            "299 -0.01799519026429994 0.01799519026429994\n",
            "399 -0.013281565321809793 0.013281565321809793\n",
            "499 -0.010517517490271142 0.010517517490271142\n",
            "599 -0.008702671554653742 0.008702671554653742\n",
            "699 -0.007420462861944725 0.007420462861944725\n",
            "799 -0.006466727308494619 0.006466727308494619\n",
            "899 -0.005729741224029519 0.005729741224029519\n",
            "999 -0.005143235476450536 0.005143235476450536\n"
          ],
          "name": "stdout"
        }
      ]
    },
    {
      "cell_type": "code",
      "metadata": {
        "id": "SODQXfGH3pmS",
        "colab_type": "code",
        "outputId": "55ed1b13-1416-4c93-e501-7ad355610402",
        "colab": {
          "base_uri": "https://localhost:8080/",
          "height": 197
        }
      },
      "source": [
        "import numpy as np\n",
        "x=np.array([[1,1],[1,0],[0,1],[0,0]])\n",
        "y=np.array([[1],[0],[0],[0]])\n",
        "w=tf.random.normal([2],0,1)\n",
        "b=tf.random.normal([1],0,1)\n",
        "b_x=1\n",
        "\n",
        "for i in range(2000):\n",
        "  error_sum=0\n",
        "  for j in range(4):\n",
        "    output=sigmoid(np.sum(x[j]*w)+b_x*b)\n",
        "    error=y[j][0]-output\n",
        "    w=w+x[j]*0.1*error\n",
        "    b=b+b_x*0.1*error\n",
        "    error_sum+=error\n",
        "\n",
        "  if i %200==199:\n",
        "    print(i,error_sum)"
      ],
      "execution_count": 0,
      "outputs": [
        {
          "output_type": "stream",
          "text": [
            "199 -0.10878266592006604\n",
            "399 -0.06516429099559692\n",
            "599 -0.0463989629572182\n",
            "799 -0.03592070820586072\n",
            "999 -0.029250766016307262\n",
            "1199 -0.024641453618548567\n",
            "1399 -0.021271332825475747\n",
            "1599 -0.018702765877736924\n",
            "1799 -0.01668033015935091\n",
            "1999 -0.0150482515258654\n"
          ],
          "name": "stdout"
        }
      ]
    }
  ]
}